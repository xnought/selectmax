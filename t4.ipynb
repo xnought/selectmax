{
 "cells": [
  {
   "cell_type": "code",
   "execution_count": 1,
   "metadata": {},
   "outputs": [],
   "source": [
    "import torch"
   ]
  },
  {
   "cell_type": "code",
   "execution_count": 2,
   "metadata": {},
   "outputs": [],
   "source": [
    "x = torch.tensor([-20000, -12313, 123]).to(torch.float)"
   ]
  },
  {
   "cell_type": "code",
   "execution_count": 10,
   "metadata": {},
   "outputs": [],
   "source": [
    "def symax(x, dim=0, eta=1):\n",
    "    sizes = torch.abs(x)\n",
    "    return sizes / (eta+sizes.sum(dim=dim))\n",
    "\n",
    "def softmax_1(x, dim=0):\n",
    "\t\"\"\"From that one dude [Evan Miller](https://www.evanmiller.org/attention-is-off-by-one.html)\"\"\"\n",
    "\te_x = torch.exp(x)\n",
    "\treturn e_x / (1 + e_x.sum(dim=dim))"
   ]
  },
  {
   "cell_type": "code",
   "execution_count": 11,
   "metadata": {},
   "outputs": [
    {
     "name": "stdout",
     "output_type": "stream",
     "text": [
      "tensor([0.6166, 0.3796, 0.0038])\n",
      "tensor([0., 0., nan])\n"
     ]
    }
   ],
   "source": [
    "print(symax(x))\n",
    "print(softmax_1(x))"
   ]
  }
 ],
 "metadata": {
  "kernelspec": {
   "display_name": "Python 3",
   "language": "python",
   "name": "python3"
  },
  "language_info": {
   "codemirror_mode": {
    "name": "ipython",
    "version": 3
   },
   "file_extension": ".py",
   "mimetype": "text/x-python",
   "name": "python",
   "nbconvert_exporter": "python",
   "pygments_lexer": "ipython3",
   "version": "3.11.2"
  },
  "orig_nbformat": 4
 },
 "nbformat": 4,
 "nbformat_minor": 2
}
