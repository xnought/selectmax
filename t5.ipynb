{
 "cells": [
  {
   "cell_type": "code",
   "execution_count": 1,
   "metadata": {},
   "outputs": [],
   "source": [
    "import torch"
   ]
  },
  {
   "cell_type": "code",
   "execution_count": 3,
   "metadata": {},
   "outputs": [],
   "source": [
    "x = torch.tensor([10, 20, 30]).to(torch.float)\n",
    "x_shifted = x+10"
   ]
  },
  {
   "cell_type": "code",
   "execution_count": 4,
   "metadata": {},
   "outputs": [
    {
     "data": {
      "text/plain": [
       "tensor([10., 20., 30.])"
      ]
     },
     "execution_count": 4,
     "metadata": {},
     "output_type": "execute_result"
    }
   ],
   "source": [
    "x"
   ]
  },
  {
   "cell_type": "code",
   "execution_count": 5,
   "metadata": {},
   "outputs": [
    {
     "data": {
      "text/plain": [
       "tensor([20., 30., 40.])"
      ]
     },
     "execution_count": 5,
     "metadata": {},
     "output_type": "execute_result"
    }
   ],
   "source": [
    "x_shifted"
   ]
  },
  {
   "cell_type": "code",
   "execution_count": 6,
   "metadata": {},
   "outputs": [],
   "source": [
    "def symax(x, dim=0, eta=1):\n",
    "    sizes = torch.abs(x)\n",
    "    return sizes / (eta+sizes.sum(dim=dim))\n",
    "\n",
    "def softmax_1(x, dim=0):\n",
    "\t\"\"\"From that one dude [Evan Miller](https://www.evanmiller.org/attention-is-off-by-one.html)\"\"\"\n",
    "\te_x = torch.exp(x)\n",
    "\treturn e_x / (1 + e_x.sum(dim=dim))"
   ]
  },
  {
   "cell_type": "code",
   "execution_count": 10,
   "metadata": {},
   "outputs": [
    {
     "name": "stdout",
     "output_type": "stream",
     "text": [
      "tensor([0.1639, 0.3279, 0.4918])\n",
      "tensor([2.0611e-09, 4.5398e-05, 9.9995e-01])\n",
      "tensor([2.0611e-09, 4.5398e-05, 9.9995e-01])\n"
     ]
    }
   ],
   "source": [
    "print(symax(x))\n",
    "print(softmax_1(x))\n",
    "print(torch.softmax(x, 0))"
   ]
  },
  {
   "cell_type": "code",
   "execution_count": 11,
   "metadata": {},
   "outputs": [
    {
     "name": "stdout",
     "output_type": "stream",
     "text": [
      "tensor([0.2198, 0.3297, 0.4396])\n",
      "tensor([2.0611e-09, 4.5398e-05, 9.9995e-01])\n",
      "tensor([2.0611e-09, 4.5398e-05, 9.9995e-01])\n"
     ]
    }
   ],
   "source": [
    "print(symax(x_shifted))\n",
    "print(softmax_1(x_shifted))\n",
    "print(torch.softmax(x_shifted, 0))"
   ]
  },
  {
   "cell_type": "code",
   "execution_count": null,
   "metadata": {},
   "outputs": [],
   "source": []
  }
 ],
 "metadata": {
  "kernelspec": {
   "display_name": "Python 3",
   "language": "python",
   "name": "python3"
  },
  "language_info": {
   "codemirror_mode": {
    "name": "ipython",
    "version": 3
   },
   "file_extension": ".py",
   "mimetype": "text/x-python",
   "name": "python",
   "nbconvert_exporter": "python",
   "pygments_lexer": "ipython3",
   "version": "3.11.2"
  },
  "orig_nbformat": 4
 },
 "nbformat": 4,
 "nbformat_minor": 2
}
